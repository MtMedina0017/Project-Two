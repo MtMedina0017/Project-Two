{
 "cells": [
  {
   "cell_type": "code",
   "execution_count": null,
   "metadata": {},
   "outputs": [],
   "source": [
    "import pandas as pd\n",
    "import pymongo\n",
    "import psycopg2\n",
    "from sqlalchemy import create_engine\n",
    "from sqlalchemy import text\n",
    "import matplotlib\n",
    "import matplotlib.pyplot as plt\n",
    "import seaborn as sns\n",
    "import numpy as np"
   ]
  },
  {
   "cell_type": "code",
   "execution_count": null,
   "metadata": {},
   "outputs": [],
   "source": [
    "# conn = psycopg2.connect(database=\"postgres\", user='postgres', password='Shjais2014', host='127.0.0.1', port='5432')\n",
    "# conn.autocommit = True"
   ]
  },
  {
   "cell_type": "code",
   "execution_count": null,
   "metadata": {},
   "outputs": [],
   "source": [
    "csv_file = \"./Data/breweries.csv\"\n",
    "breweries_df = pd.read_csv(csv_file)\n",
    "breweries_df.head()"
   ]
  },
  {
   "cell_type": "code",
   "execution_count": null,
   "metadata": {},
   "outputs": [],
   "source": [
    "breweries_df = breweries_df.drop(columns=['Unnamed: 0', 'city']) \n",
    "breweries_df"
   ]
  },
  {
   "cell_type": "code",
   "execution_count": null,
   "metadata": {
    "scrolled": true
   },
   "outputs": [],
   "source": [
    "breweries_df = breweries_df.groupby(['state']).count()\n",
    "breweries_df"
   ]
  },
  {
   "cell_type": "code",
   "execution_count": null,
   "metadata": {
    "scrolled": false
   },
   "outputs": [],
   "source": [
    "breweries_df.head()\n"
   ]
  },
  {
   "cell_type": "code",
   "execution_count": null,
   "metadata": {},
   "outputs": [],
   "source": [
    "csv_file = \"./Data/Costs of Excessive Alcohol Consumption by State.csv\"\n",
    "costs_df = pd.read_csv(csv_file)\n",
    "costs_df.head()"
   ]
  },
  {
   "cell_type": "code",
   "execution_count": null,
   "metadata": {},
   "outputs": [],
   "source": [
    "costs_df = costs_df.drop(columns=['Location']) \n",
    "costs_df.head()"
   ]
  },
  {
   "cell_type": "code",
   "execution_count": null,
   "metadata": {},
   "outputs": [],
   "source": [
    "costs_df.rename(columns = {'State':'state', 'Total Cost ($)':'total_cost', 'Cost per drink ($)':'cost_per_drink',\n",
    "                          'Cost per capita ($)':'cost_per_capita'}, inplace = True) \n",
    "costs_df.head()"
   ]
  },
  {
   "cell_type": "code",
   "execution_count": null,
   "metadata": {},
   "outputs": [],
   "source": [
    "costs_df = costs_df.set_index(\"state\", inplace=True)\n",
    "costs_df.head()"
   ]
  },
  {
   "cell_type": "code",
   "execution_count": null,
   "metadata": {},
   "outputs": [],
   "source": [
    "csv_file = \"./Data/Intensity of Binge Drinking.csv\"\n",
    "intensity_df = pd.read_csv(csv_file)\n",
    "intensity_df.head()"
   ]
  },
  {
   "cell_type": "code",
   "execution_count": null,
   "metadata": {},
   "outputs": [],
   "source": [
    "# rename columns in intensity_df, the website, https://www.cdc.gov/alcohol/data-stats.htm, says this is not a percentage but\n",
    "# the average largest number of drinks consumed by binge drinkers on any occasion\n",
    "intensity_df.rename(columns = {'State':'state', 'Percentage':'average_num_of_drinks'}, inplace = True) \n",
    "intensity_df.head()"
   ]
  },
  {
   "cell_type": "code",
   "execution_count": null,
   "metadata": {},
   "outputs": [],
   "source": [
    "intensity_df = intensity_df.set_index(\"state\", inplace=True)\n",
    "intensity_df.head()"
   ]
  },
  {
   "cell_type": "code",
   "execution_count": null,
   "metadata": {},
   "outputs": [],
   "source": [
    "csv_file = \"./Data/Prevalence of Binge Drinking.csv\"\n",
    "prevalence_df = pd.read_csv(csv_file)\n",
    "prevalence_df.head()"
   ]
  },
  {
   "cell_type": "code",
   "execution_count": null,
   "metadata": {},
   "outputs": [],
   "source": [
    "prevalence_df.rename(columns = {'State':'state', 'Percentage':'percentage'}, inplace = True) \n",
    "prevalence_df.head()"
   ]
  },
  {
   "cell_type": "code",
   "execution_count": null,
   "metadata": {},
   "outputs": [],
   "source": [
    "prevalence_df = prevalence_df.set_index(\"state\", inplace=True)\n",
    "prevalence_df.head()"
   ]
  },
  {
   "cell_type": "code",
   "execution_count": null,
   "metadata": {},
   "outputs": [],
   "source": []
  },
  {
   "cell_type": "code",
   "execution_count": null,
   "metadata": {},
   "outputs": [],
   "source": []
  },
  {
   "cell_type": "code",
   "execution_count": null,
   "metadata": {},
   "outputs": [],
   "source": []
  },
  {
   "cell_type": "code",
   "execution_count": null,
   "metadata": {},
   "outputs": [],
   "source": []
  },
  {
   "cell_type": "code",
   "execution_count": null,
   "metadata": {},
   "outputs": [],
   "source": []
  }
 ],
 "metadata": {
  "kernelspec": {
   "display_name": "Python 3",
   "language": "python",
   "name": "python3"
  },
  "language_info": {
   "codemirror_mode": {
    "name": "ipython",
    "version": 3
   },
   "file_extension": ".py",
   "mimetype": "text/x-python",
   "name": "python",
   "nbconvert_exporter": "python",
   "pygments_lexer": "ipython3",
   "version": "3.6.10"
  }
 },
 "nbformat": 4,
 "nbformat_minor": 4
}
